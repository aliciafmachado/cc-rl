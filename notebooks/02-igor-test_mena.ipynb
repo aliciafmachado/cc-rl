{
 "metadata": {
  "language_info": {
   "codemirror_mode": {
    "name": "ipython",
    "version": 3
   },
   "file_extension": ".py",
   "mimetype": "text/x-python",
   "name": "python",
   "nbconvert_exporter": "python",
   "pygments_lexer": "ipython3",
   "version": "3.8.5-final"
  },
  "orig_nbformat": 2,
  "kernelspec": {
   "name": "python38564bitccrlconda1f739bfb779a45b78b1c0b0dbf241f49",
   "display_name": "Python 3.8.5 64-bit ('cc-rl': conda)",
   "language": "python"
  }
 },
 "nbformat": 4,
 "nbformat_minor": 2,
 "cells": [
  {
   "cell_type": "code",
   "execution_count": 1,
   "metadata": {},
   "outputs": [],
   "source": [
    "%load_ext autoreload\n",
    "%autoreload 2\n",
    "from sklearn.metrics import zero_one_loss, accuracy_score\n",
    "\n",
    "from src.classifier_chain.ClassifierChain import ClassifierChain\n",
    "from src.data.Dataset import Dataset"
   ]
  },
  {
   "cell_type": "code",
   "execution_count": 2,
   "metadata": {},
   "outputs": [
    {
     "output_type": "stream",
     "name": "stdout",
     "text": [
      "CPU times: user 6.17 s, sys: 189 ms, total: 6.35 s\nWall time: 3.22 s\n"
     ]
    }
   ],
   "source": [
    "ds = Dataset('yeast')\n",
    "cc = ClassifierChain()\n",
    "%time cc.fit(ds)"
   ]
  },
  {
   "cell_type": "code",
   "execution_count": 3,
   "metadata": {},
   "outputs": [
    {
     "output_type": "stream",
     "name": "stdout",
     "text": [
      "CPU times: user 29.7 ms, sys: 278 µs, total: 30 ms\nWall time: 16.7 ms\nGreedy 0/1 loss: 0.7982551799345692\nGreedy accuracy: 0.20174482006543076\nGreedy average number of explored nodes: 14\n"
     ]
    }
   ],
   "source": [
    "%time pred, num_nodes = cc.predict(ds, 'greedy', True)\n",
    "print('Greedy 0/1 loss:', zero_one_loss(ds.test_y, pred))\n",
    "print('Greedy accuracy:', accuracy_score(ds.test_y, pred))\n",
    "print('Greedy average number of explored nodes:', num_nodes)"
   ]
  },
  {
   "cell_type": "code",
   "execution_count": 4,
   "metadata": {
    "tags": []
   },
   "outputs": [
    {
     "output_type": "stream",
     "name": "stdout",
     "text": [
      "CPU times: user 16.7 s, sys: 716 ms, total: 17.4 s\nWall time: 8.71 s\nExhaustive-Search 0/1 loss: 0.7688113413304253\nExhaustive-Search accuracy: 0.2311886586695747\nExhaustive-Search average number of explored nodes: 16383\n"
     ]
    }
   ],
   "source": [
    "%time pred, num_nodes = cc.predict(ds, 'exhaustive_search', True)\n",
    "print('Exhaustive-Search 0/1 loss:', zero_one_loss(ds.test_y, pred))\n",
    "print('Exhaustive-Search accuracy:', accuracy_score(ds.test_y, pred))\n",
    "print('Exhaustive-Search average number of explored nodes:', num_nodes)"
   ]
  },
  {
   "cell_type": "code",
   "execution_count": 5,
   "metadata": {},
   "outputs": [
    {
     "output_type": "stream",
     "name": "stdout",
     "text": [
      "CPU times: user 51.5 ms, sys: 3.8 ms, total: 55.3 ms\nWall time: 27.2 ms\nEpsilon-0.5 0/1 loss: 0.7982551799345692\nEpsilon-0.5 accuracy: 0.20174482006543076\nEpsilon-0.5 average number of explored nodes: 14.0\n"
     ]
    }
   ],
   "source": [
    "%time pred, num_nodes = cc.predict(ds, 'epsilon_approximation', True, epsilon=0.5)\n",
    "print('Epsilon-0.5 0/1 loss:', zero_one_loss(ds.test_y, pred))\n",
    "print('Epsilon-0.5 accuracy:', accuracy_score(ds.test_y, pred))\n",
    "print('Epsilon-0.5 average number of explored nodes:', num_nodes)"
   ]
  },
  {
   "cell_type": "code",
   "execution_count": 6,
   "metadata": {
    "tags": []
   },
   "outputs": [
    {
     "output_type": "stream",
     "name": "stdout",
     "text": [
      "CPU times: user 78.5 ms, sys: 3.74 ms, total: 82.2 ms\nWall time: 40.9 ms\nEpsilon-0.25 0/1 loss: 0.7928026172300982\nEpsilon-0.25 accuracy: 0.20719738276990185\nEpsilon-0.25 average number of explored nodes: 19.43620501635769\n"
     ]
    }
   ],
   "source": [
    "%time pred, num_nodes = cc.predict(ds, 'epsilon_approximation', True, epsilon=0.25)\n",
    "print('Epsilon-0.25 0/1 loss:', zero_one_loss(ds.test_y, pred))\n",
    "print('Epsilon-0.25 accuracy:', accuracy_score(ds.test_y, pred))\n",
    "print('Epsilon-0.25 average number of explored nodes:', num_nodes)"
   ]
  },
  {
   "cell_type": "code",
   "execution_count": 7,
   "metadata": {},
   "outputs": [
    {
     "output_type": "stream",
     "name": "stdout",
     "text": [
      "CPU times: user 32.7 s, sys: 1.4 s, total: 34.1 s\nWall time: 17.3 s\nEpsilon-0 0/1 loss: 0.7688113413304253\nEpsilon-0 accuracy: 0.2311886586695747\nEpsilon-0 average number of explored nodes: 16383.0\n"
     ]
    }
   ],
   "source": [
    "%time pred, num_nodes = cc.predict(ds, 'epsilon_approximation', True, epsilon=0)\n",
    "print('Epsilon-0 0/1 loss:', zero_one_loss(ds.test_y, pred))\n",
    "print('Epsilon-0 accuracy:', accuracy_score(ds.test_y, pred))\n",
    "print('Epsilon-0 average number of explored nodes:', num_nodes)"
   ]
  },
  {
   "cell_type": "code",
   "execution_count": 8,
   "metadata": {},
   "outputs": [
    {
     "output_type": "stream",
     "name": "stdout",
     "text": [
      "CPU times: user 53.1 ms, sys: 4.05 ms, total: 57.1 ms\nWall time: 33.7 ms\nBeam-Search-1 0/1 loss: 0.7982551799345692\nBeam-Search-1 accuracy: 0.20174482006543076\nBeam-Search-1 average number of explored nodes: 14\n"
     ]
    }
   ],
   "source": [
    "%time pred, num_nodes = cc.predict(ds, 'beam_search', True, b=1)\n",
    "print('Beam-Search-1 0/1 loss:', zero_one_loss(ds.test_y, pred))\n",
    "print('Beam-Search-1 accuracy:', accuracy_score(ds.test_y, pred))\n",
    "print('Beam-Search-1 average number of explored nodes:', num_nodes)"
   ]
  },
  {
   "cell_type": "code",
   "execution_count": 9,
   "metadata": {},
   "outputs": [
    {
     "output_type": "stream",
     "name": "stdout",
     "text": [
      "CPU times: user 65.7 ms, sys: 8.09 ms, total: 73.8 ms\nWall time: 36.5 ms\nBeam-Search-2 0/1 loss: 0.7677208287895311\nBeam-Search-2 accuracy: 0.23227917121046893\nBeam-Search-2 average number of explored nodes: 27\n"
     ]
    }
   ],
   "source": [
    "%time pred, num_nodes = cc.predict(ds, 'beam_search', True, b=2)\n",
    "print('Beam-Search-2 0/1 loss:', zero_one_loss(ds.test_y, pred))\n",
    "print('Beam-Search-2 accuracy:', accuracy_score(ds.test_y, pred))\n",
    "print('Beam-Search-2 average number of explored nodes:', num_nodes)"
   ]
  },
  {
   "cell_type": "code",
   "execution_count": 10,
   "metadata": {},
   "outputs": [
    {
     "output_type": "stream",
     "name": "stdout",
     "text": [
      "CPU times: user 108 ms, sys: 155 µs, total: 108 ms\nWall time: 53.7 ms\nBeam-Search-3 0/1 loss: 0.772082878953108\nBeam-Search-3 accuracy: 0.22791712104689205\nBeam-Search-3 average number of explored nodes: 39\n"
     ]
    }
   ],
   "source": [
    "%time pred, num_nodes = cc.predict(ds, 'beam_search', True, b=3)\n",
    "print('Beam-Search-3 0/1 loss:', zero_one_loss(ds.test_y, pred))\n",
    "print('Beam-Search-3 accuracy:', accuracy_score(ds.test_y, pred))\n",
    "print('Beam-Search-3 average number of explored nodes:', num_nodes)"
   ]
  },
  {
   "cell_type": "code",
   "execution_count": 11,
   "metadata": {},
   "outputs": [
    {
     "output_type": "stream",
     "name": "stdout",
     "text": [
      "CPU times: user 382 ms, sys: 28.8 ms, total: 411 ms\nWall time: 225 ms\nBeam-Search-10 0/1 loss: 0.7688113413304253\nBeam-Search-10 accuracy: 0.2311886586695747\nBeam-Search-10 average number of explored nodes: 115\n"
     ]
    }
   ],
   "source": [
    "%time pred, num_nodes = cc.predict(ds, 'beam_search', True, b=10)\n",
    "print('Beam-Search-10 0/1 loss:', zero_one_loss(ds.test_y, pred))\n",
    "print('Beam-Search-10 accuracy:', accuracy_score(ds.test_y, pred))\n",
    "print('Beam-Search-10 average number of explored nodes:', num_nodes)"
   ]
  },
  {
   "cell_type": "code",
   "execution_count": 12,
   "metadata": {},
   "outputs": [
    {
     "output_type": "stream",
     "name": "stdout",
     "text": [
      "CPU times: user 736 ms, sys: 21.1 ms, total: 757 ms\nWall time: 451 ms\nMonte-Carlo-10 0/1 loss: 0.9389312977099237\nMonte-Carlo-10 accuracy: 0.061068702290076333\nMonte-Carlo-10 average number of explored nodes: 140\n"
     ]
    }
   ],
   "source": [
    "%time pred, num_nodes = cc.predict(ds, 'monte_carlo', True, q=10)\n",
    "print('Monte-Carlo-10 0/1 loss:', zero_one_loss(ds.test_y, pred))\n",
    "print('Monte-Carlo-10 accuracy:', accuracy_score(ds.test_y, pred))\n",
    "print('Monte-Carlo-10 average number of explored nodes:', num_nodes)"
   ]
  },
  {
   "cell_type": "code",
   "execution_count": 13,
   "metadata": {},
   "outputs": [
    {
     "output_type": "stream",
     "name": "stdout",
     "text": [
      "CPU times: user 1.6 s, sys: 80.2 ms, total: 1.68 s\nWall time: 918 ms\nMonte-Carlo-50 0/1 loss: 0.826608505997819\nMonte-Carlo-50 accuracy: 0.173391494002181\nMonte-Carlo-50 average number of explored nodes: 700\n"
     ]
    }
   ],
   "source": [
    "%time pred, num_nodes = cc.predict(ds, 'monte_carlo', True, q=50)\n",
    "print('Monte-Carlo-50 0/1 loss:', zero_one_loss(ds.test_y, pred))\n",
    "print('Monte-Carlo-50 accuracy:', accuracy_score(ds.test_y, pred))\n",
    "print('Monte-Carlo-50 average number of explored nodes:', num_nodes)"
   ]
  },
  {
   "cell_type": "code",
   "execution_count": 14,
   "metadata": {
    "tags": []
   },
   "outputs": [
    {
     "output_type": "stream",
     "name": "stdout",
     "text": [
      "CPU times: user 3.21 s, sys: 88.6 ms, total: 3.3 s\nWall time: 1.81 s\nMonte-Carlo-100 0/1 loss: 0.797164667393675\nMonte-Carlo-100 accuracy: 0.20283533260632497\nMonte-Carlo-100 average number of explored nodes: 1400\n"
     ]
    }
   ],
   "source": [
    "%time pred, num_nodes = cc.predict(ds, 'monte_carlo', True, q=100)\n",
    "print('Monte-Carlo-100 0/1 loss:', zero_one_loss(ds.test_y, pred))\n",
    "print('Monte-Carlo-100 accuracy:', accuracy_score(ds.test_y, pred))\n",
    "print('Monte-Carlo-100 average number of explored nodes:', num_nodes)"
   ]
  },
  {
   "cell_type": "code",
   "execution_count": 15,
   "metadata": {},
   "outputs": [
    {
     "output_type": "stream",
     "name": "stdout",
     "text": [
      "CPU times: user 283 ms, sys: 12.1 ms, total: 295 ms\n",
      "Wall time: 152 ms\n",
      "Efficient-Monte-Carlo-10 0/1 loss: 0.8298800436205016\n",
      "Efficient-Monte-Carlo-10 accuracy: 0.17011995637949837\n",
      "Efficient-Monte-Carlo-10 average number of explored nodes: 140\n"
     ]
    }
   ],
   "source": [
    "%time pred, num_nodes = cc.predict(ds, 'efficient_monte_carlo', True, q=10)\n",
    "print('Efficient-Monte-Carlo-10 0/1 loss:', zero_one_loss(ds.test_y, pred))\n",
    "print('Efficient-Monte-Carlo-10 accuracy:', accuracy_score(ds.test_y, pred))\n",
    "print('Efficient-Monte-Carlo-10 average number of explored nodes:', num_nodes)"
   ]
  },
  {
   "cell_type": "code",
   "execution_count": 16,
   "metadata": {},
   "outputs": [
    {
     "output_type": "stream",
     "name": "stdout",
     "text": [
      "CPU times: user 1.36 s, sys: 39.8 ms, total: 1.4 s\nWall time: 711 ms\nEfficient-Monte-Carlo-50 0/1 loss: 0.7688113413304253\nEfficient-Monte-Carlo-50 accuracy: 0.2311886586695747\nEfficient-Monte-Carlo-50 average number of explored nodes: 700\n"
     ]
    }
   ],
   "source": [
    "%time pred, num_nodes = cc.predict(ds, 'efficient_monte_carlo', True, q=50)\n",
    "print('Efficient-Monte-Carlo-50 0/1 loss:', zero_one_loss(ds.test_y, pred))\n",
    "print('Efficient-Monte-Carlo-50 accuracy:', accuracy_score(ds.test_y, pred))\n",
    "print('Efficient-Monte-Carlo-50 average number of explored nodes:', num_nodes)"
   ]
  },
  {
   "cell_type": "code",
   "execution_count": 17,
   "metadata": {},
   "outputs": [
    {
     "output_type": "stream",
     "name": "stdout",
     "text": [
      "CPU times: user 2.11 s, sys: 87.7 ms, total: 2.19 s\nWall time: 1.11 s\nEfficient-Monte-Carlo-100 0/1 loss: 0.7688113413304253\nEfficient-Monte-Carlo-100 accuracy: 0.2311886586695747\nEfficient-Monte-Carlo-100 average number of explored nodes: 1400\n"
     ]
    }
   ],
   "source": [
    "%time pred, num_nodes = cc.predict(ds, 'efficient_monte_carlo', True, q=100)\n",
    "print('Efficient-Monte-Carlo-100 0/1 loss:', zero_one_loss(ds.test_y, pred))\n",
    "print('Efficient-Monte-Carlo-100 accuracy:', accuracy_score(ds.test_y, pred))\n",
    "print('Efficient-Monte-Carlo-100 average number of explored nodes:', num_nodes)"
   ]
  },
  {
   "cell_type": "code",
   "execution_count": null,
   "metadata": {},
   "outputs": [],
   "source": []
  }
 ]
}