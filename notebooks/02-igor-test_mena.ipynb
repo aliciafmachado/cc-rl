{
 "metadata": {
  "language_info": {
   "codemirror_mode": {
    "name": "ipython",
    "version": 3
   },
   "file_extension": ".py",
   "mimetype": "text/x-python",
   "name": "python",
   "nbconvert_exporter": "python",
   "pygments_lexer": "ipython3",
   "version": "3.8.5-final"
  },
  "orig_nbformat": 2,
  "kernelspec": {
   "name": "python38564bitccrlconda1f739bfb779a45b78b1c0b0dbf241f49",
   "display_name": "Python 3.8.5 64-bit ('cc-rl': conda)"
  }
 },
 "nbformat": 4,
 "nbformat_minor": 2,
 "cells": [
  {
   "cell_type": "code",
   "execution_count": 1,
   "metadata": {},
   "outputs": [],
   "source": [
    "%load_ext autoreload\n",
    "%autoreload 2\n",
    "from sklearn.metrics import zero_one_loss, accuracy_score\n",
    "\n",
    "from src.classifier_chain.ClassifierChain import ClassifierChain\n",
    "from src.data.Dataset import Dataset"
   ]
  },
  {
   "cell_type": "code",
   "execution_count": 2,
   "metadata": {},
   "outputs": [],
   "source": [
    "ds = Dataset('scene')\n",
    "cc = ClassifierChain()\n",
    "cc.fit(ds.train_x, ds.train_y)"
   ]
  },
  {
   "cell_type": "code",
   "execution_count": 3,
   "metadata": {},
   "outputs": [
    {
     "output_type": "stream",
     "name": "stdout",
     "text": [
      "CPU times: user 13 µs, sys: 1 µs, total: 14 µs\nWall time: 9.3 µs\nGreedy 0/1 loss: 0.39381270903010035\nGreedy accuracy: 0.6061872909698997\nGreedy average number of explored nodes: 6\n"
     ]
    }
   ],
   "source": [
    "%time\n",
    "pred, num_nodes = cc.predict(ds.test_x, 'greedy', True)\n",
    "print('Greedy 0/1 loss:', zero_one_loss(ds.test_y, pred))\n",
    "print('Greedy accuracy:', accuracy_score(ds.test_y, pred))\n",
    "print('Greedy average number of explored nodes:', num_nodes)"
   ]
  },
  {
   "cell_type": "code",
   "execution_count": 4,
   "metadata": {
    "tags": []
   },
   "outputs": [
    {
     "output_type": "stream",
     "name": "stdout",
     "text": [
      "CPU times: user 10 µs, sys: 1 µs, total: 11 µs\n",
      "Wall time: 8.82 µs\n",
      "Exhaustive-Search 0/1 loss: 0.36204013377926425\n",
      "Exhaustive-Search accuracy: 0.6379598662207357\n",
      "Exhaustive-Search average number of explored nodes: 63\n"
     ]
    }
   ],
   "source": [
    "%time\n",
    "pred, num_nodes = cc.predict(ds.test_x, 'exhaustive_search', True)\n",
    "print('Exhaustive-Search 0/1 loss:', zero_one_loss(ds.test_y, pred))\n",
    "print('Exhaustive-Search accuracy:', accuracy_score(ds.test_y, pred))\n",
    "print('Exhaustive-Search average number of explored nodes:', num_nodes)"
   ]
  },
  {
   "cell_type": "code",
   "execution_count": null,
   "metadata": {},
   "outputs": [],
   "source": []
  }
 ]
}