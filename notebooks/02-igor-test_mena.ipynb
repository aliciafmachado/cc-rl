{
 "metadata": {
  "language_info": {
   "codemirror_mode": {
    "name": "ipython",
    "version": 3
   },
   "file_extension": ".py",
   "mimetype": "text/x-python",
   "name": "python",
   "nbconvert_exporter": "python",
   "pygments_lexer": "ipython3",
   "version": "3.8.5-final"
  },
  "orig_nbformat": 2,
  "kernelspec": {
   "name": "python38564bitccrlconda1f739bfb779a45b78b1c0b0dbf241f49",
   "display_name": "Python 3.8.5 64-bit ('cc-rl': conda)",
   "language": "python"
  }
 },
 "nbformat": 4,
 "nbformat_minor": 2,
 "cells": [
  {
   "cell_type": "code",
   "execution_count": 1,
   "metadata": {},
   "outputs": [],
   "source": [
    "%load_ext autoreload\n",
    "%autoreload 2\n",
    "from sklearn.metrics import zero_one_loss, accuracy_score\n",
    "\n",
    "from src.classifier_chain.ClassifierChain import ClassifierChain\n",
    "from src.data.Dataset import Dataset"
   ]
  },
  {
   "cell_type": "code",
   "execution_count": 2,
   "metadata": {},
   "outputs": [
    {
     "output_type": "stream",
     "name": "stdout",
     "text": [
      "CPU times: user 5.56 s, sys: 181 ms, total: 5.74 s\nWall time: 2.88 s\n"
     ]
    }
   ],
   "source": [
    "ds = Dataset('yeast')\n",
    "cc = ClassifierChain()\n",
    "%time cc.fit(ds)"
   ]
  },
  {
   "cell_type": "code",
   "execution_count": 3,
   "metadata": {},
   "outputs": [
    {
     "output_type": "stream",
     "name": "stdout",
     "text": [
      "CPU times: user 32.3 ms, sys: 0 ns, total: 32.3 ms\nWall time: 15.7 ms\nGreedy 0/1 loss: 0.7982551799345692\nGreedy accuracy: 0.20174482006543076\nGreedy average number of explored nodes: 14\n"
     ]
    }
   ],
   "source": [
    "%time pred, num_nodes = cc.predict(ds, 'greedy', True)\n",
    "print('Greedy 0/1 loss:', zero_one_loss(ds.test_y, pred))\n",
    "print('Greedy accuracy:', accuracy_score(ds.test_y, pred))\n",
    "print('Greedy average number of explored nodes:', num_nodes)"
   ]
  },
  {
   "cell_type": "code",
   "execution_count": 4,
   "metadata": {
    "tags": []
   },
   "outputs": [
    {
     "output_type": "stream",
     "name": "stdout",
     "text": [
      "CPU times: user 18.5 s, sys: 766 ms, total: 19.3 s\nWall time: 9.69 s\nExhaustive-Search 0/1 loss: 0.7688113413304253\nExhaustive-Search accuracy: 0.2311886586695747\nExhaustive-Search average number of explored nodes: 16383\n"
     ]
    }
   ],
   "source": [
    "%time pred, num_nodes = cc.predict(ds, 'exhaustive_search', True)\n",
    "print('Exhaustive-Search 0/1 loss:', zero_one_loss(ds.test_y, pred))\n",
    "print('Exhaustive-Search accuracy:', accuracy_score(ds.test_y, pred))\n",
    "print('Exhaustive-Search average number of explored nodes:', num_nodes)"
   ]
  },
  {
   "cell_type": "code",
   "execution_count": 5,
   "metadata": {},
   "outputs": [
    {
     "output_type": "stream",
     "name": "stdout",
     "text": [
      "CPU times: user 46.1 ms, sys: 8.35 ms, total: 54.5 ms\nWall time: 30.4 ms\nEpsilon-0.5 0/1 loss: 0.7982551799345692\nEpsilon-0.5 accuracy: 0.20174482006543076\nEpsilon-0.5 average number of explored nodes: 14.0\n"
     ]
    }
   ],
   "source": [
    "%time pred, num_nodes = cc.predict(ds, 'epsilon_approximation', True, epsilon=0.5)\n",
    "print('Epsilon-0.5 0/1 loss:', zero_one_loss(ds.test_y, pred))\n",
    "print('Epsilon-0.5 accuracy:', accuracy_score(ds.test_y, pred))\n",
    "print('Epsilon-0.5 average number of explored nodes:', num_nodes)"
   ]
  },
  {
   "cell_type": "code",
   "execution_count": 6,
   "metadata": {
    "tags": []
   },
   "outputs": [
    {
     "output_type": "stream",
     "name": "stdout",
     "text": [
      "CPU times: user 91.4 ms, sys: 7.81 ms, total: 99.2 ms\nWall time: 50 ms\nEpsilon-0.25 0/1 loss: 0.7928026172300982\nEpsilon-0.25 accuracy: 0.20719738276990185\nEpsilon-0.25 average number of explored nodes: 19.43620501635769\n"
     ]
    }
   ],
   "source": [
    "%time pred, num_nodes = cc.predict(ds, 'epsilon_approximation', True, epsilon=0.25)\n",
    "print('Epsilon-0.25 0/1 loss:', zero_one_loss(ds.test_y, pred))\n",
    "print('Epsilon-0.25 accuracy:', accuracy_score(ds.test_y, pred))\n",
    "print('Epsilon-0.25 average number of explored nodes:', num_nodes)"
   ]
  },
  {
   "cell_type": "code",
   "execution_count": 7,
   "metadata": {},
   "outputs": [
    {
     "output_type": "stream",
     "name": "stdout",
     "text": [
      "CPU times: user 34.8 s, sys: 1.36 s, total: 36.1 s\nWall time: 18.2 s\nEpsilon-0 0/1 loss: 0.7688113413304253\nEpsilon-0 accuracy: 0.2311886586695747\nEpsilon-0 average number of explored nodes: 16383.0\n"
     ]
    }
   ],
   "source": [
    "%time pred, num_nodes = cc.predict(ds, 'epsilon_approximation', True, epsilon=0)\n",
    "print('Epsilon-0 0/1 loss:', zero_one_loss(ds.test_y, pred))\n",
    "print('Epsilon-0 accuracy:', accuracy_score(ds.test_y, pred))\n",
    "print('Epsilon-0 average number of explored nodes:', num_nodes)"
   ]
  },
  {
   "cell_type": "code",
   "execution_count": 8,
   "metadata": {},
   "outputs": [
    {
     "output_type": "stream",
     "name": "stdout",
     "text": [
      "CPU times: user 45.8 ms, sys: 0 ns, total: 45.8 ms\nWall time: 23 ms\nBeam-Search-1 0/1 loss: 0.7982551799345692\nBeam-Search-1 accuracy: 0.20174482006543076\nBeam-Search-1 average number of explored nodes: 14.0\n"
     ]
    }
   ],
   "source": [
    "%time pred, num_nodes = cc.predict(ds, 'beam_search', True, b=1)\n",
    "print('Beam-Search-1 0/1 loss:', zero_one_loss(ds.test_y, pred))\n",
    "print('Beam-Search-1 accuracy:', accuracy_score(ds.test_y, pred))\n",
    "print('Beam-Search-1 average number of explored nodes:', num_nodes)"
   ]
  },
  {
   "cell_type": "code",
   "execution_count": 9,
   "metadata": {},
   "outputs": [
    {
     "output_type": "stream",
     "name": "stdout",
     "text": [
      "CPU times: user 75.7 ms, sys: 7.83 ms, total: 83.6 ms\nWall time: 43.9 ms\nBeam-Search-2 0/1 loss: 0.7677208287895311\nBeam-Search-2 accuracy: 0.23227917121046893\nBeam-Search-2 average number of explored nodes: 27.0\n"
     ]
    }
   ],
   "source": [
    "%time pred, num_nodes = cc.predict(ds, 'beam_search', True, b=2)\n",
    "print('Beam-Search-2 0/1 loss:', zero_one_loss(ds.test_y, pred))\n",
    "print('Beam-Search-2 accuracy:', accuracy_score(ds.test_y, pred))\n",
    "print('Beam-Search-2 average number of explored nodes:', num_nodes)"
   ]
  },
  {
   "cell_type": "code",
   "execution_count": 11,
   "metadata": {},
   "outputs": [
    {
     "output_type": "stream",
     "name": "stdout",
     "text": [
      "CPU times: user 84.6 ms, sys: 0 ns, total: 84.6 ms\nWall time: 50.6 ms\nBeam-Search-3 0/1 loss: 0.772082878953108\nBeam-Search-3 accuracy: 0.22791712104689205\nBeam-Search-3 average number of explored nodes: 39.0\n"
     ]
    }
   ],
   "source": [
    "%time pred, num_nodes = cc.predict(ds, 'beam_search', True, b=3)\n",
    "print('Beam-Search-3 0/1 loss:', zero_one_loss(ds.test_y, pred))\n",
    "print('Beam-Search-3 accuracy:', accuracy_score(ds.test_y, pred))\n",
    "print('Beam-Search-3 average number of explored nodes:', num_nodes)"
   ]
  },
  {
   "cell_type": "code",
   "execution_count": 10,
   "metadata": {},
   "outputs": [
    {
     "output_type": "stream",
     "name": "stdout",
     "text": [
      "CPU times: user 296 ms, sys: 20.2 ms, total: 316 ms\nWall time: 163 ms\nBeam-Search-10 0/1 loss: 0.7688113413304253\nBeam-Search-10 accuracy: 0.2311886586695747\nBeam-Search-10 average number of explored nodes: 115.0\n"
     ]
    }
   ],
   "source": [
    "%time pred, num_nodes = cc.predict(ds, 'beam_search', True, b=10)\n",
    "print('Beam-Search-10 0/1 loss:', zero_one_loss(ds.test_y, pred))\n",
    "print('Beam-Search-10 accuracy:', accuracy_score(ds.test_y, pred))\n",
    "print('Beam-Search-10 average number of explored nodes:', num_nodes)"
   ]
  },
  {
   "cell_type": "code",
   "execution_count": null,
   "metadata": {},
   "outputs": [],
   "source": []
  }
 ]
}