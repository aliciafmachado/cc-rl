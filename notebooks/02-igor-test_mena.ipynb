{
 "metadata": {
  "language_info": {
   "codemirror_mode": {
    "name": "ipython",
    "version": 3
   },
   "file_extension": ".py",
   "mimetype": "text/x-python",
   "name": "python",
   "nbconvert_exporter": "python",
   "pygments_lexer": "ipython3",
   "version": "3.8.5-final"
  },
  "orig_nbformat": 2,
  "kernelspec": {
   "name": "python38564bitccrlconda1f739bfb779a45b78b1c0b0dbf241f49",
   "display_name": "Python 3.8.5 64-bit ('cc-rl': conda)",
   "language": "python"
  }
 },
 "nbformat": 4,
 "nbformat_minor": 2,
 "cells": [
  {
   "cell_type": "code",
   "execution_count": 1,
   "metadata": {},
   "outputs": [],
   "source": [
    "%load_ext autoreload\n",
    "%autoreload 2\n",
    "from sklearn.metrics import zero_one_loss, accuracy_score\n",
    "import time\n",
    "\n",
    "from src.classifier_chain.ClassifierChain import ClassifierChain\n",
    "from src.data.Dataset import Dataset"
   ]
  },
  {
   "cell_type": "code",
   "execution_count": 2,
   "metadata": {},
   "outputs": [
    {
     "output_type": "stream",
     "name": "stdout",
     "text": [
      "CPU times: user 5.98 s, sys: 157 ms, total: 6.14 s\nWall time: 3.1 s\n"
     ]
    }
   ],
   "source": [
    "ds = Dataset('yeast')\n",
    "cc = ClassifierChain()\n",
    "%time cc.fit(ds)"
   ]
  },
  {
   "cell_type": "code",
   "execution_count": 3,
   "metadata": {},
   "outputs": [
    {
     "output_type": "stream",
     "name": "stdout",
     "text": [
      "CPU times: user 20.9 ms, sys: 8.03 ms, total: 28.9 ms\nWall time: 14 ms\nGreedy 0/1 loss: 0.7982551799345692\nGreedy accuracy: 0.20174482006543076\nGreedy average number of explored nodes: 14\n"
     ]
    }
   ],
   "source": [
    "%time pred, num_nodes = cc.predict(ds, 'greedy', True)\n",
    "print('Greedy 0/1 loss:', zero_one_loss(ds.test_y, pred))\n",
    "print('Greedy accuracy:', accuracy_score(ds.test_y, pred))\n",
    "print('Greedy average number of explored nodes:', num_nodes)"
   ]
  },
  {
   "cell_type": "code",
   "execution_count": 4,
   "metadata": {
    "tags": []
   },
   "outputs": [
    {
     "output_type": "stream",
     "name": "stdout",
     "text": [
      "CPU times: user 18.2 s, sys: 643 ms, total: 18.8 s\nWall time: 9.48 s\nExhaustive-Search 0/1 loss: 0.7688113413304253\nExhaustive-Search accuracy: 0.2311886586695747\nExhaustive-Search average number of explored nodes: 16383\n"
     ]
    }
   ],
   "source": [
    "%time pred, num_nodes = cc.predict(ds, 'exhaustive_search', True)\n",
    "print('Exhaustive-Search 0/1 loss:', zero_one_loss(ds.test_y, pred))\n",
    "print('Exhaustive-Search accuracy:', accuracy_score(ds.test_y, pred))\n",
    "print('Exhaustive-Search average number of explored nodes:', num_nodes)"
   ]
  },
  {
   "cell_type": "code",
   "execution_count": 5,
   "metadata": {},
   "outputs": [
    {
     "output_type": "stream",
     "name": "stdout",
     "text": [
      "CPU times: user 46.4 ms, sys: 0 ns, total: 46.4 ms\nWall time: 24.6 ms\nEpsilon-0.5 0/1 loss: 0.7982551799345692\nEpsilon-0.5 accuracy: 0.20174482006543076\nEpsilon-0.5 average number of explored nodes: 14.0\n"
     ]
    }
   ],
   "source": [
    "%time pred, num_nodes = cc.predict(ds, 'epsilon_approximation', True, epsilon=0.5)\n",
    "print('Epsilon-0.5 0/1 loss:', zero_one_loss(ds.test_y, pred))\n",
    "print('Epsilon-0.5 accuracy:', accuracy_score(ds.test_y, pred))\n",
    "print('Epsilon-0.5 average number of explored nodes:', num_nodes)"
   ]
  },
  {
   "cell_type": "code",
   "execution_count": 6,
   "metadata": {
    "tags": []
   },
   "outputs": [
    {
     "output_type": "stream",
     "name": "stdout",
     "text": [
      "CPU times: user 91.1 ms, sys: 15.9 ms, total: 107 ms\nWall time: 57.1 ms\nEpsilon-0.25 0/1 loss: 0.7928026172300982\nEpsilon-0.25 accuracy: 0.20719738276990185\nEpsilon-0.25 average number of explored nodes: 19.43620501635769\n"
     ]
    }
   ],
   "source": [
    "%time pred, num_nodes = cc.predict(ds, 'epsilon_approximation', True, epsilon=0.25)\n",
    "print('Epsilon-0.25 0/1 loss:', zero_one_loss(ds.test_y, pred))\n",
    "print('Epsilon-0.25 accuracy:', accuracy_score(ds.test_y, pred))\n",
    "print('Epsilon-0.25 average number of explored nodes:', num_nodes)"
   ]
  },
  {
   "cell_type": "code",
   "execution_count": 7,
   "metadata": {},
   "outputs": [
    {
     "output_type": "stream",
     "name": "stdout",
     "text": [
      "CPU times: user 33.6 s, sys: 1.35 s, total: 34.9 s\nWall time: 17.7 s\nEpsilon-0 0/1 loss: 0.7688113413304253\nEpsilon-0 accuracy: 0.2311886586695747\nEpsilon-0 average number of explored nodes: 16383.0\n"
     ]
    }
   ],
   "source": [
    "%time pred, num_nodes = cc.predict(ds, 'epsilon_approximation', True, epsilon=0)\n",
    "print('Epsilon-0 0/1 loss:', zero_one_loss(ds.test_y, pred))\n",
    "print('Epsilon-0 accuracy:', accuracy_score(ds.test_y, pred))\n",
    "print('Epsilon-0 average number of explored nodes:', num_nodes)"
   ]
  },
  {
   "cell_type": "code",
   "execution_count": null,
   "metadata": {},
   "outputs": [],
   "source": []
  }
 ]
}