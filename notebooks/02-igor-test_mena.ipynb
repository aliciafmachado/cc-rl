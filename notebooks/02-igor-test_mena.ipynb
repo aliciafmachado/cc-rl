{
 "metadata": {
  "language_info": {
   "codemirror_mode": {
    "name": "ipython",
    "version": 3
   },
   "file_extension": ".py",
   "mimetype": "text/x-python",
   "name": "python",
   "nbconvert_exporter": "python",
   "pygments_lexer": "ipython3",
   "version": "3.8.5-final"
  },
  "orig_nbformat": 2,
  "kernelspec": {
   "name": "python38564bitccrlconda1f739bfb779a45b78b1c0b0dbf241f49",
   "display_name": "Python 3.8.5 64-bit ('cc-rl': conda)"
  }
 },
 "nbformat": 4,
 "nbformat_minor": 2,
 "cells": [
  {
   "cell_type": "code",
   "execution_count": 1,
   "metadata": {},
   "outputs": [],
   "source": [
    "%load_ext autoreload\n",
    "%autoreload 2\n",
    "from sklearn.metrics import zero_one_loss, accuracy_score\n",
    "import time\n",
    "\n",
    "from src.classifier_chain.ClassifierChain import ClassifierChain\n",
    "from src.data.Dataset import Dataset"
   ]
  },
  {
   "cell_type": "code",
   "execution_count": 2,
   "metadata": {},
   "outputs": [
    {
     "output_type": "stream",
     "name": "stdout",
     "text": [
      "CPU times: user 4.84 s, sys: 123 ms, total: 4.97 s\nWall time: 2.51 s\n"
     ]
    }
   ],
   "source": [
    "ds = Dataset('yeast')\n",
    "cc = ClassifierChain()\n",
    "%time cc.fit(ds)"
   ]
  },
  {
   "cell_type": "code",
   "execution_count": 3,
   "metadata": {},
   "outputs": [
    {
     "output_type": "stream",
     "name": "stdout",
     "text": [
      "CPU times: user 30.4 ms, sys: 0 ns, total: 30.4 ms\nWall time: 15 ms\nGreedy 0/1 loss: 0.7982551799345692\nGreedy accuracy: 0.20174482006543076\nGreedy average number of explored nodes: 14\n"
     ]
    }
   ],
   "source": [
    "%time pred, num_nodes = cc.predict(ds, 'greedy', True)\n",
    "print('Greedy 0/1 loss:', zero_one_loss(ds.test_y, pred))\n",
    "print('Greedy accuracy:', accuracy_score(ds.test_y, pred))\n",
    "print('Greedy average number of explored nodes:', num_nodes)"
   ]
  },
  {
   "cell_type": "code",
   "execution_count": 4,
   "metadata": {
    "tags": []
   },
   "outputs": [
    {
     "output_type": "stream",
     "name": "stdout",
     "text": [
      "CPU times: user 15.3 s, sys: 616 ms, total: 15.9 s\nWall time: 7.99 s\nExhaustive-Search 0/1 loss: 0.7688113413304253\nExhaustive-Search accuracy: 0.2311886586695747\nExhaustive-Search average number of explored nodes: 16383\n"
     ]
    }
   ],
   "source": [
    "%time pred, num_nodes = cc.predict(ds, 'exhaustive_search', True)\n",
    "print('Exhaustive-Search 0/1 loss:', zero_one_loss(ds.test_y, pred))\n",
    "print('Exhaustive-Search accuracy:', accuracy_score(ds.test_y, pred))\n",
    "print('Exhaustive-Search average number of explored nodes:', num_nodes)"
   ]
  },
  {
   "cell_type": "code",
   "execution_count": null,
   "metadata": {},
   "outputs": [],
   "source": []
  }
 ]
}