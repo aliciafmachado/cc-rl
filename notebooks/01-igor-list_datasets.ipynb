{
 "metadata": {
  "language_info": {
   "codemirror_mode": {
    "name": "ipython",
    "version": 3
   },
   "file_extension": ".py",
   "mimetype": "text/x-python",
   "name": "python",
   "nbconvert_exporter": "python",
   "pygments_lexer": "ipython3",
   "version": "3.8.5-final"
  },
  "orig_nbformat": 2,
  "kernelspec": {
   "name": "python38564bitccrlconda1f739bfb779a45b78b1c0b0dbf241f49",
   "display_name": "Python 3.8.5 64-bit ('cc-rl': conda)"
  }
 },
 "nbformat": 4,
 "nbformat_minor": 2,
 "cells": [
  {
   "cell_type": "code",
   "execution_count": 1,
   "metadata": {},
   "outputs": [],
   "source": [
    "%load_ext autoreload\n",
    "%autoreload 2\n",
    "from src.data.Dataset import Dataset"
   ]
  },
  {
   "cell_type": "code",
   "execution_count": 2,
   "metadata": {},
   "outputs": [
    {
     "output_type": "stream",
     "name": "stdout",
     "text": [
      "       Type  Train Instances  Test Instances  Attributes  Labels  Cardinality\n",
      "enron  Text             1123             579        1001      53     3.378378\n",
      "          Type  Train Instances  Test Instances  Attributes  Labels  Cardinality\n",
      "corel5k  Image             4500             500         499     374        3.522\n",
      "        Type  Train Instances  Test Instances  Attributes  Labels  Cardinality\n",
      "bibtex  Text             4880            2515        1836     159     2.401893\n",
      "          Type  Train Instances  Test Instances  Attributes  Labels  Cardinality\n",
      "yeast  Biology             1500             917         103      14     4.237071\n",
      "        Type  Train Instances  Test Instances  Attributes  Labels  Cardinality\n",
      "scene  Image             1211            1196         294       6     1.073951\n",
      "         Type  Train Instances  Test Instances  Attributes  Labels  Cardinality\n",
      "medical  Text              333             645        1449      45     1.245399\n",
      "           Type  Train Instances  Test Instances  Attributes  Labels  Cardinality\n",
      "emotions  Music              391             202          72       6     1.868465\n"
     ]
    }
   ],
   "source": [
    "for ds_name in Dataset.skmultilearn_datasets:\n",
    "    ds = Dataset(ds_name)\n",
    "    ds.info()"
   ]
  },
  {
   "cell_type": "code",
   "execution_count": null,
   "metadata": {},
   "outputs": [],
   "source": []
  }
 ]
}