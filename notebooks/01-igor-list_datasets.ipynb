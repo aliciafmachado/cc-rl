{
 "metadata": {
  "language_info": {
   "codemirror_mode": {
    "name": "ipython",
    "version": 3
   },
   "file_extension": ".py",
   "mimetype": "text/x-python",
   "name": "python",
   "nbconvert_exporter": "python",
   "pygments_lexer": "ipython3",
   "version": "3.8.5-final"
  },
  "orig_nbformat": 2,
  "kernelspec": {
   "name": "python38564bitccrlconda1f739bfb779a45b78b1c0b0dbf241f49",
   "display_name": "Python 3.8.5 64-bit ('cc-rl': conda)",
   "language": "python"
  }
 },
 "nbformat": 4,
 "nbformat_minor": 2,
 "cells": [
  {
   "cell_type": "code",
   "execution_count": 1,
   "metadata": {},
   "outputs": [],
   "source": [
    "%load_ext autoreload\n",
    "%autoreload 2\n",
    "import pandas as pd\n",
    "from src.data.Dataset import Dataset"
   ]
  },
  {
   "cell_type": "code",
   "execution_count": 2,
   "metadata": {},
   "outputs": [
    {
     "output_type": "display_data",
     "data": {
      "text/plain": "                Type  Train Instances  Test Instances  Attributes  Labels  \\\nCorel5k        Image             4500             500         499     374   \nbibtex          Text             4880            2515        1836     159   \nbirds          Audio              322             323         260      19   \ndelicious       Text             5000            3185         500     983   \nemotions       Music              391             202          72       6   \nenron           Text             1123             579        1001      53   \nflags          Image              129              65          19       7   \nimage          Image             1800             200         135       5   \nmediamill      Video             5000            5000         120     101   \nscene          Image             1211            1196         294       6   \ntmc2007_500     Text             5000            5000         500      22   \nyeast        Biology             1500             917         103      14   \n\n             Cardinality  \nCorel5k         3.522000  \nbibtex          2.401893  \nbirds           1.013953  \ndelicious      19.056323  \nemotions        1.868465  \nenron           3.378378  \nflags           3.391753  \nimage           1.236000  \nmediamill       4.287700  \nscene           1.073951  \ntmc2007_500     2.201500  \nyeast           4.237071  ",
      "text/html": "<div>\n<style scoped>\n    .dataframe tbody tr th:only-of-type {\n        vertical-align: middle;\n    }\n\n    .dataframe tbody tr th {\n        vertical-align: top;\n    }\n\n    .dataframe thead th {\n        text-align: right;\n    }\n</style>\n<table border=\"1\" class=\"dataframe\">\n  <thead>\n    <tr style=\"text-align: right;\">\n      <th></th>\n      <th>Type</th>\n      <th>Train Instances</th>\n      <th>Test Instances</th>\n      <th>Attributes</th>\n      <th>Labels</th>\n      <th>Cardinality</th>\n    </tr>\n  </thead>\n  <tbody>\n    <tr>\n      <th>Corel5k</th>\n      <td>Image</td>\n      <td>4500</td>\n      <td>500</td>\n      <td>499</td>\n      <td>374</td>\n      <td>3.522000</td>\n    </tr>\n    <tr>\n      <th>bibtex</th>\n      <td>Text</td>\n      <td>4880</td>\n      <td>2515</td>\n      <td>1836</td>\n      <td>159</td>\n      <td>2.401893</td>\n    </tr>\n    <tr>\n      <th>birds</th>\n      <td>Audio</td>\n      <td>322</td>\n      <td>323</td>\n      <td>260</td>\n      <td>19</td>\n      <td>1.013953</td>\n    </tr>\n    <tr>\n      <th>delicious</th>\n      <td>Text</td>\n      <td>5000</td>\n      <td>3185</td>\n      <td>500</td>\n      <td>983</td>\n      <td>19.056323</td>\n    </tr>\n    <tr>\n      <th>emotions</th>\n      <td>Music</td>\n      <td>391</td>\n      <td>202</td>\n      <td>72</td>\n      <td>6</td>\n      <td>1.868465</td>\n    </tr>\n    <tr>\n      <th>enron</th>\n      <td>Text</td>\n      <td>1123</td>\n      <td>579</td>\n      <td>1001</td>\n      <td>53</td>\n      <td>3.378378</td>\n    </tr>\n    <tr>\n      <th>flags</th>\n      <td>Image</td>\n      <td>129</td>\n      <td>65</td>\n      <td>19</td>\n      <td>7</td>\n      <td>3.391753</td>\n    </tr>\n    <tr>\n      <th>image</th>\n      <td>Image</td>\n      <td>1800</td>\n      <td>200</td>\n      <td>135</td>\n      <td>5</td>\n      <td>1.236000</td>\n    </tr>\n    <tr>\n      <th>mediamill</th>\n      <td>Video</td>\n      <td>5000</td>\n      <td>5000</td>\n      <td>120</td>\n      <td>101</td>\n      <td>4.287700</td>\n    </tr>\n    <tr>\n      <th>scene</th>\n      <td>Image</td>\n      <td>1211</td>\n      <td>1196</td>\n      <td>294</td>\n      <td>6</td>\n      <td>1.073951</td>\n    </tr>\n    <tr>\n      <th>tmc2007_500</th>\n      <td>Text</td>\n      <td>5000</td>\n      <td>5000</td>\n      <td>500</td>\n      <td>22</td>\n      <td>2.201500</td>\n    </tr>\n    <tr>\n      <th>yeast</th>\n      <td>Biology</td>\n      <td>1500</td>\n      <td>917</td>\n      <td>103</td>\n      <td>14</td>\n      <td>4.237071</td>\n    </tr>\n  </tbody>\n</table>\n</div>"
     },
     "metadata": {}
    }
   ],
   "source": [
    "df = pd.DataFrame()\n",
    "for ds_name in Dataset.available_datasets:\n",
    "    ds = Dataset(ds_name)\n",
    "    df = df.append(ds.info())\n",
    "df = df.sort_index()\n",
    "\n",
    "display(df)"
   ]
  },
  {
   "cell_type": "code",
   "execution_count": null,
   "metadata": {},
   "outputs": [],
   "source": []
  }
 ]
}